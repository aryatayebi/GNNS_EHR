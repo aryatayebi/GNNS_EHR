{
 "cells": [
  {
   "cell_type": "code",
   "execution_count": 1,
   "metadata": {
    "id": "nnLXdNy0KNA7"
   },
   "outputs": [
    {
     "name": "stderr",
     "output_type": "stream",
     "text": [
      "Matplotlib created a temporary config/cache directory at /tmp/matplotlib-g6ygj2ji because the default path (/gpfs/home/nsj244/.config/matplotlib) is not a writable directory; it is highly recommended to set the MPLCONFIGDIR environment variable to a writable directory, in particular to speed up the import of Matplotlib and to better support multiprocessing.\n"
     ]
    }
   ],
   "source": [
    "import pickle\n",
    "import pandas as pd\n",
    "import torch\n",
    "import scipy.sparse\n",
    "#import transformers\n",
    "import numpy as np\n",
    "from tqdm.auto import tqdm\n",
    "from sklearn.metrics import precision_score, recall_score, average_precision_score, precision_recall_curve, roc_auc_score, roc_curve, auc\n",
    "\n",
    "from transformers_custom import BertForMaskedLM, BertConfig, AdamW, get_scheduler, BertForTokenClassification, BertTokenizerFast\n",
    "import matplotlib.pyplot as plt\n"
   ]
  },
  {
   "cell_type": "markdown",
   "metadata": {},
   "source": [
    "### Pretrain Data Load"
   ]
  },
  {
   "cell_type": "code",
   "execution_count": 8,
   "metadata": {
    "id": "XOpZEIvpWv3A"
   },
   "outputs": [],
   "source": [
    "def data_load():\n",
    "    \n",
    "    xallFile = \"/gpfs/data/razavianlab/capstone/2021_ehr/preprocessed_xall_with_outcome.npz\"\n",
    "    data = scipy.sparse.load_npz(xallFile)\n",
    "\n",
    "    outcomes = (data[:, -1])\n",
    "    outcomes = outcomes.toarray()\n",
    "\n",
    "    with open('mapping_dict_LARGE.pkl', 'rb') as f:\n",
    "        mapping_dict = pickle.load(f)\n",
    "\n",
    "    with open('final_list_modified_LARGE.pkl', 'rb') as f:\n",
    "        final_list_modified = pickle.load(f)\n",
    "\n",
    "    with open('study_indexes_LARGE.pkl', 'rb') as f:\n",
    "        study_indexes = pickle.load(f)\n",
    "\n",
    "    # Pretrain Model\n",
    "    BertModel = torch.load(\"model.pkl\")\n",
    "    \n",
    "    del data\n",
    "    \n",
    "    return outcomes, mapping_dict, final_list_modified, study_indexes, BertModel"
   ]
  },
  {
   "cell_type": "code",
   "execution_count": 9,
   "metadata": {},
   "outputs": [],
   "source": [
    "outcomes, mapping_dict, final_list_modified, study_indexes, BertModel = data_load()"
   ]
  },
  {
   "cell_type": "markdown",
   "metadata": {},
   "source": [
    "### Downsampling Functions"
   ]
  },
  {
   "cell_type": "code",
   "execution_count": 10,
   "metadata": {
    "id": "g7E4B4tF7kwi"
   },
   "outputs": [],
   "source": [
    "def train_downsample(NON_DEM_TO_DEM_TRAIN_RATIO, PRECENTAGE_DEMENTIA_TRAINING, dementia_outcomes, study_indexes, final_list_modified):\n",
    "  \n",
    "    train_inputs = {}\n",
    "\n",
    "    # getting first 10% of len(dementia_outcomes == 1)\n",
    "    max_train_dementia_index = int(len(np.where(dementia_outcomes == 1)[0])*PRECENTAGE_DEMENTIA_TRAINING)\n",
    "    print(\"Amount of training dementia cases:\", max_train_dementia_index)\n",
    "    # getting ratio multiple of max_train_dementia_index for (dementia_outcomes == 0)\n",
    "    max_train_NONdementia_index = NON_DEM_TO_DEM_TRAIN_RATIO * max_train_dementia_index\n",
    "    print(\"Amount of training non dementia cases:\", max_train_NONdementia_index)\n",
    "\n",
    "    # concatenating indexes of dementia and non dementia studies chosen for training\n",
    "    train_dem_inds = np.where(dementia_outcomes == 1)[0][:max_train_dementia_index]\n",
    "    train_NONdem_inds = np.where(dementia_outcomes == 0)[0][:max_train_NONdementia_index]\n",
    "    train_inds = np.concatenate((train_dem_inds,train_NONdem_inds), axis=0)\n",
    "\n",
    "    # randomly shuffling indecies such that 0s and 1s mixed for training\n",
    "    random.shuffle(train_inds)\n",
    "    train_inputs[\"labels\"] = dementia_outcomes[train_inds]\n",
    "    train_inputs[\"input_ids\"] = list(zip(np.array(study_indexes,dtype=object)[train_inds],np.array(final_list_modified,dtype=object)[train_inds]))\n",
    "\n",
    "    print(round(len(train_inds)/len(dementia_outcomes),4), \"of overall data used for train\")\n",
    "\n",
    "    return train_inputs, train_inds\n",
    "\n",
    "def val_test_split(train_inds, study_indexes, dementia_outcomes, final_list_modified):\n",
    "  \n",
    "    val_inputs = {}\n",
    "    test_inputs = {}\n",
    "\n",
    "    train_inds.sort()\n",
    "    study_trains = np.array(study_indexes)[train_inds]\n",
    "    study_trains_max = study_trains[len(study_trains)-1]\n",
    "\n",
    "    # finding last study used in training\n",
    "    final_train_ind = 0\n",
    "    for index, i in enumerate(study_indexes):\n",
    "        if i == study_trains_max:\n",
    "            final_train_ind = index\n",
    "    \n",
    "\n",
    "    # only considering studies that are after last train study (chance of patient overlap if including data prior to last train study)\n",
    "    post_train_study_indexes = study_indexes[(final_train_ind+1):]\n",
    "    post_train_final_list = final_list_modified[(final_train_ind+1):]\n",
    "    post_train_dementia = dementia_outcomes[(final_train_ind+1):]\n",
    "\n",
    "    # splitting validation and test equally\n",
    "    split = len(post_train_dementia)//2\n",
    "\n",
    "    # inputs ids\n",
    "    val_inputs[\"input_ids\"] = list(zip(post_train_study_indexes[:split],post_train_final_list[:split]))\n",
    "    test_inputs[\"input_ids\"] = list(zip(post_train_study_indexes[split:],post_train_final_list[split:]))\n",
    "\n",
    "    # labels\n",
    "    val_inputs[\"labels\"] = post_train_dementia[:split]\n",
    "    test_inputs[\"labels\"] = post_train_dementia[split:]\n",
    "\n",
    "    print(\"Amount of val cases:\", len(val_inputs[\"labels\"]), \"which is \", round(len(val_inputs[\"labels\"])/len(study_indexes),4),\"of the dataset\")\n",
    "    print(\"Amount of test cases:\", len(test_inputs[\"labels\"]), \"which is \", round(len(test_inputs[\"labels\"])/len(study_indexes),4) ,\"of the dataset\")\n",
    "\n",
    "    return val_inputs, test_inputs\n",
    "\n"
   ]
  },
  {
   "cell_type": "code",
   "execution_count": 14,
   "metadata": {
    "colab": {
     "base_uri": "https://localhost:8080/"
    },
    "id": "aQGuN2bqQu2S",
    "outputId": "36cbb30d-e425-4c7d-b2ce-cfd15265aa99"
   },
   "outputs": [
    {
     "name": "stdout",
     "output_type": "stream",
     "text": [
      "Amount of training dementia cases: 13072\n",
      "Amount of training non dementia cases: 39216\n",
      "0.0291 of overall data used for train\n",
      "Amount of val cases: 265121 which is  0.1473 of the dataset\n",
      "Amount of test cases: 265122 which is  0.1473 of the dataset\n"
     ]
    }
   ],
   "source": [
    "import random\n",
    "random.seed(10)\n",
    "\n",
    "dementia_outcomes = []\n",
    "\n",
    "study_indexes.sort()\n",
    "\n",
    "# grabbing only indexes used in pretrain\n",
    "for index in study_indexes:\n",
    "    dementia_outcomes.append(outcomes[index])\n",
    "dementia_outcomes = np.array(dementia_outcomes)\n",
    "\n",
    "# ratio of downsample\n",
    "NON_DEM_TO_DEM_TRAIN_RATIO = 3\n",
    "PRECENTAGE_DEMENTIA_TRAINING = .7\n",
    "\n",
    "train_inputs, train_inds = train_downsample(NON_DEM_TO_DEM_TRAIN_RATIO, PRECENTAGE_DEMENTIA_TRAINING, dementia_outcomes, study_indexes, final_list_modified)\n",
    "val_inputs, test_inputs = val_test_split(train_inds, study_indexes, dementia_outcomes, final_list_modified)"
   ]
  },
  {
   "cell_type": "code",
   "execution_count": 15,
   "metadata": {
    "colab": {
     "base_uri": "https://localhost:8080/"
    },
    "id": "6CZoHX4y2F7r",
    "outputId": "4e1807a3-b34c-4a4e-8b04-75081fb43b65"
   },
   "outputs": [
    {
     "data": {
      "text/plain": [
       "(52288, 265121, 265122)"
      ]
     },
     "execution_count": 15,
     "metadata": {},
     "output_type": "execute_result"
    }
   ],
   "source": [
    "print(len(train_inputs[\"input_ids\"]), len(val_inputs[\"input_ids\"]), len(test_inputs[\"input_ids\"]))"
   ]
  },
  {
   "cell_type": "markdown",
   "metadata": {},
   "source": [
    "### TEST Downsample "
   ]
  },
  {
   "cell_type": "code",
   "execution_count": 16,
   "metadata": {},
   "outputs": [
    {
     "name": "stdout",
     "output_type": "stream",
     "text": [
      "8538\n",
      "11384\n"
     ]
    },
    {
     "data": {
      "text/plain": [
       "(11384, 11384)"
      ]
     },
     "execution_count": 16,
     "metadata": {},
     "output_type": "execute_result"
    }
   ],
   "source": [
    "#test_inds = np.where(test_inputs[\"labels\"] == 0)[0]\n",
    "\n",
    "test_dem = np.where(test_inputs[\"labels\"] == 1)[0]\n",
    "test_dem_length = len(test_dem)\n",
    "test_n_inds = np.where(test_inputs[\"labels\"] == 0)[0]\n",
    "test_non_dem_inds = np.random.choice(test_n_inds,size=test_dem_length*3, replace=False)\n",
    "\n",
    "total_inds = list(test_non_dem_inds)\n",
    "print(len(total_inds))\n",
    "total_inds.extend(list(test_dem))\n",
    "print(len(total_inds))\n",
    "\n",
    "random.shuffle(total_inds)\n",
    "\n",
    "new_test = {\"input_ids\":[],\"labels\":[]}\n",
    "for i in total_inds:\n",
    "    chosen = test_inputs[\"input_ids\"][i]\n",
    "    new_test[\"input_ids\"].append(chosen)\n",
    "new_test[\"labels\"] = test_inputs[\"labels\"][total_inds]\n",
    "\n",
    "len(new_test[\"input_ids\"]),len(new_test[\"labels\"])"
   ]
  },
  {
   "cell_type": "markdown",
   "metadata": {
    "id": "oliEd0c0OP1f"
   },
   "source": [
    "### Model"
   ]
  },
  {
   "cell_type": "code",
   "execution_count": 17,
   "metadata": {},
   "outputs": [
    {
     "name": "stdout",
     "output_type": "stream",
     "text": [
      "sending model to  cuda\n"
     ]
    }
   ],
   "source": [
    "device = torch.device(\"cuda\") if torch.cuda.is_available() else torch.device(\"cpu\")\n",
    "#device = torch.device(\"cpu\")\n",
    "print(\"sending model to \", device)"
   ]
  },
  {
   "cell_type": "code",
   "execution_count": 18,
   "metadata": {},
   "outputs": [],
   "source": [
    "class FeedForwardNN(torch.nn.Module):\n",
    "    def __init__(self, input_dim, output_dim, batch_size, mapping_size):\n",
    "        super(FeedForwardNN, self).__init__()\n",
    "        self.hidden_layer = 512\n",
    "        self.linear1 = torch.nn.Linear(mapping_size*512, 2)\n",
    "        self.batch_size = batch_size\n",
    "        self.col_size = mapping_size*512\n",
    "\n",
    "    def forward(self, x, BertModel):\n",
    "        \n",
    "        data = []\n",
    "        lengths = []\n",
    "        \n",
    "        # padding data with 0s to end of every sequence\n",
    "        for d in x:\n",
    "            data.append(torch.tensor(d[1]))\n",
    "            lengths.append(len(d[1]))\n",
    "        padded_data = torch.stack([torch.cat([i, i.new_zeros(99 - i.size(0))], 0) for i in data]).to(torch.device(\"cuda\"))\n",
    "        \n",
    "        # running BERT model on each sequence to get last hidden state\n",
    "        last_hidden_state = BertModel(padded_data,output_hidden_states = True).hidden_states[-1]\n",
    "        \n",
    "        # initializing input\n",
    "        nn_input = torch.zeros(self.batch_size, self.col_size, dtype=torch.float16)\n",
    "        \n",
    "        # putting hidden states into input by stacking them into a vector based on input position\n",
    "        for i in range(batch_size):\n",
    "            for j, index_col in enumerate(x[i][1]):\n",
    "                nn_input[i][index_col*self.hidden_layer:index_col*self.hidden_layer\n",
    "                         +self.hidden_layer] = last_hidden_state[i,j,:].cpu().detach()        \n",
    "        \n",
    "    \n",
    "        outputs = self.linear1(nn_input.float().to(torch.device(\"cuda\")))\n",
    "        return outputs"
   ]
  },
  {
   "cell_type": "code",
   "execution_count": 49,
   "metadata": {},
   "outputs": [],
   "source": [
    "batch_size = 24\n",
    "epochs = 1\n",
    "input_dim = 512\n",
    "output_dim = 2\n",
    "lr_rate = 1\n",
    "\n",
    "BertModel = BertModel.to(torch.device(\"cuda\"))\n",
    "model = FeedForwardNN(input_dim, output_dim, batch_size, len(mapping_dict.keys())).to(torch.device(\"cuda\"))\n",
    "#model = torch.load(\"EPOCH_Model_1.pkl\")\n",
    "\n",
    "criterion = torch.nn.CrossEntropyLoss(weight = torch.tensor((1.0,3.0))).to(device) # computes softmax and then the cross entropy\n",
    "softmax = torch.nn.Softmax(dim=1)\n",
    "\n",
    "optimizer = torch.optim.Adam(model.parameters(), lr=lr_rate)\n",
    "\n",
    "model.train()"
   ]
  },
  {
   "cell_type": "markdown",
   "metadata": {
    "id": "IN0ClOu-0vQi"
   },
   "source": [
    "### Training"
   ]
  },
  {
   "cell_type": "code",
   "execution_count": 51,
   "metadata": {
    "colab": {
     "base_uri": "https://localhost:8080/"
    },
    "id": "0MX7mnt0xIRZ",
    "outputId": "4d9945fc-eed7-4920-f561-eb7488c0272a"
   },
   "outputs": [
    {
     "name": "stdout",
     "output_type": "stream",
     "text": [
      "epoch 0\n",
      "iteration: 0  loss: 1273.83374\n",
      "iteration: 100  loss: 4459.2947\n",
      "iteration: 200  loss: 4521.82112\n",
      "iteration: 300  loss: 3908.72773\n",
      "iteration: 400  loss: 4220.25532\n",
      "iteration: 500  loss: 3086.92785\n",
      "iteration: 600  loss: 3457.19441\n",
      "iteration: 700  loss: 3839.31682\n",
      "iteration: 800  loss: 3566.30102\n",
      "iteration: 900  loss: 3073.98002\n",
      "iteration: 1000  loss: 4235.86212\n"
     ]
    }
   ],
   "source": [
    "train_labels = []\n",
    "train_probs = []\n",
    "train_losses = []\n",
    "\n",
    "for epoch in range(epochs):\n",
    "\n",
    "    print ('epoch', epoch)\n",
    "\n",
    "    start = 0\n",
    "    end = batch_size\n",
    "    iteration = 0\n",
    "    loss_avg = 0\n",
    "\n",
    "    while end < len(train_inputs[\"input_ids\"])//2: \n",
    "\n",
    "        x = train_inputs[\"input_ids\"][start:end]\n",
    "        outputs = model(x, BertModel)\n",
    "        _, predicted = torch.max(outputs, 1)\n",
    "\n",
    "        labels = torch.tensor([int(x) for x in train_inputs['labels'][start:end] ])\n",
    "        train_y_prob = softmax(outputs)[:,1].detach()\n",
    "        \n",
    "        # appending results for metrics\n",
    "        if epochs-epoch == 1:\n",
    "            train_probs.append(train_y_prob)\n",
    "            train_labels.append(labels)\n",
    "\n",
    "        # step\n",
    "        loss = criterion(outputs.to(device), labels.to(device))\n",
    "        loss.backward()\n",
    "        optimizer.step()\n",
    "        optimizer.zero_grad()\n",
    "        \n",
    "        loss_avg += loss.item()\n",
    "            \n",
    "        # model check\n",
    "        if (iteration%100 == 0):\n",
    "            if iteration == 0:\n",
    "                print (\"iteration:\",iteration, \" loss:\",round(loss_avg,5))\n",
    "            else:\n",
    "                print (\"iteration:\",iteration, \" loss:\",round(loss_avg/100,5))\n",
    "            loss_avg = 0\n",
    "    \n",
    "\n",
    "        iteration += 1\n",
    "        start += batch_size\n",
    "        end += batch_size\n",
    "        torch.cuda.empty_cache()"
   ]
  },
  {
   "cell_type": "code",
   "execution_count": 71,
   "metadata": {
    "id": "wBSTHxkxON77"
   },
   "outputs": [],
   "source": [
    "def model_metrics(labs, probs):\n",
    "    np_labs = torch.cat(labs).cpu().numpy()\n",
    "    np_probs = torch.cat(probs).cpu().numpy()\n",
    "    precision, recall, thresholds = precision_recall_curve(np_labs,np_probs)\n",
    "    avg_precision = average_precision_score(np_labs,np_probs)\n",
    "    fpr, tpr, thresholds = roc_curve(np_labs, np_probs)\n",
    "\n",
    "    auc = roc_auc_score(np_labs,np_probs)\n",
    "    \n",
    "    print(\"AUC: \", auc)\n",
    "    print(\"Avg Percision: \", avg_precision)\n",
    "    \n",
    "    return precision, recall, avg_precision, auc, fpr, tpr"
   ]
  },
  {
   "cell_type": "code",
   "execution_count": 73,
   "metadata": {
    "id": "dRsWbIyiOXDv"
   },
   "outputs": [],
   "source": [
    "precision, recall, avg_precision, auc,fpr, tpr = model_metrics(train_labels, train_probs)"
   ]
  },
  {
   "cell_type": "code",
   "execution_count": 74,
   "metadata": {
    "colab": {
     "base_uri": "https://localhost:8080/"
    },
    "id": "eXoW7UBjOaO1",
    "outputId": "3dd32b01-018b-4d3f-c381-bf07a1c0734b"
   },
   "outputs": [
    {
     "data": {
      "text/plain": [
       "0.2581507289506958"
      ]
     },
     "execution_count": 74,
     "metadata": {},
     "output_type": "execute_result"
    }
   ],
   "source": [
    "avg_precision"
   ]
  },
  {
   "cell_type": "code",
   "execution_count": 61,
   "metadata": {
    "colab": {
     "base_uri": "https://localhost:8080/"
    },
    "id": "Vo0akezTRzh-",
    "outputId": "4b037c13-f393-421f-fbfb-1f468956cb51"
   },
   "outputs": [
    {
     "data": {
      "text/plain": [
       "0.5241931456951607"
      ]
     },
     "execution_count": 61,
     "metadata": {},
     "output_type": "execute_result"
    }
   ],
   "source": [
    "auc"
   ]
  },
  {
   "cell_type": "code",
   "execution_count": 81,
   "metadata": {
    "colab": {
     "base_uri": "https://localhost:8080/",
     "height": 265
    },
    "id": "FmtzKFlCP9KD",
    "outputId": "0ce3dcb4-a55a-4ba7-9c41-2624f4175da4"
   },
   "outputs": [
    {
     "data": {
      "image/png": "[encoded data removed]",
      "text/plain": [
       "<Figure size 640x480 with 1 Axes>"
      ]
     },
     "metadata": {},
     "output_type": "display_data"
    }
   ],
   "source": [
    "plt.plot(recall, precision, label='AP {}'.format(round(avg_precision, 3)))\n",
    "plt.xlabel(\"Recall\")\n",
    "plt.ylabel(\"Precision\")\n",
    "plt.title('Precision Recall Curve')\n",
    "#plt.axhline(y=0.25, color='r', linestyle='-',label='No Skill')# plt.ylim([0, 1.1])\n",
    "plt.legend()\n",
    "plt.show()"
   ]
  },
  {
   "cell_type": "code",
   "execution_count": 76,
   "metadata": {},
   "outputs": [
    {
     "data": {
      "image/png": "[encoded data removed]",
      "text/plain": [
       "<Figure size 640x480 with 1 Axes>"
      ]
     },
     "metadata": {},
     "output_type": "display_data"
    }
   ],
   "source": [
    "plt.plot([0, 1], [0, 1], color=\"navy\", linestyle=\"--\")\n",
    "plt.plot(fpr, tpr, label='AUC {}'.format(round(auc, 3)))\n",
    "plt.title('ROC Curve')\n",
    "plt.xlabel('False Positive Rate')\n",
    "plt.ylabel('True Positive Rate')\n",
    "plt.legend()\n",
    "plt.show()"
   ]
  },
  {
   "cell_type": "markdown",
   "metadata": {
    "id": "YAGslFd29Ix7"
   },
   "source": [
    "## Validation"
   ]
  },
  {
   "cell_type": "code",
   "execution_count": null,
   "metadata": {
    "colab": {
     "base_uri": "https://localhost:8080/"
    },
    "id": "JHER-Ptu2-H0",
    "outputId": "9f8258eb-4c39-4769-8f23-2afe501d1a80",
    "scrolled": true
   },
   "outputs": [],
   "source": [
    "val_batch = batch_size\n",
    "v_start = 0\n",
    "v_end = batch_size\n",
    "val_iteration = 0\n",
    "val_loss = 0\n",
    "num_correct = 0\n",
    "iterations = 0\n",
    "val_probs = []\n",
    "val_labels = []\n",
    "with torch.no_grad():\n",
    "    while v_end < len(val_inputs[\"input_ids\"])//4: \n",
    "        val_iteration+=1\n",
    "        outputs_val = model(val_inputs[\"input_ids\"][v_start:v_end],BertModel)\n",
    "        val_y_prob = softmax(outputs_val)[:,1]\n",
    "        _, predicted_val = torch.max(outputs_val, 1)\n",
    "        \n",
    "        \n",
    "        labels_val = torch.tensor([int(x) for x in val_inputs['labels'][v_start:v_end]]).to(device)\n",
    "        val_loss = criterion(outputs_val, labels_val)\n",
    "        val_loss+= val_loss\n",
    "        \n",
    "        val_labels.append(labels_val)\n",
    "        val_probs.append(val_y_prob)\n",
    "\n",
    "        num_correct += torch.sum(predicted_val == labels_val)\n",
    "\n",
    "        v_start += batch_size\n",
    "        v_end += batch_size\n",
    "        \n",
    "        iterations += 1\n",
    "        if iterations%25 == 0:\n",
    "            print(iterations, loss.item())\n",
    "        \n",
    "        \n",
    "\n",
    "\n",
    "    print ('validation loss at', str(\"FIX\"), val_loss/len(val_inputs[\"labels\"]))\n",
    "    print ('accuracy at', str(iteration), num_correct/len(val_inputs[\"labels\"]))\n",
    "    print ('')\n",
    "    print ('')\n",
    "    print ('')\n"
   ]
  },
  {
   "cell_type": "code",
   "execution_count": null,
   "metadata": {},
   "outputs": [],
   "source": [
    "val_precision, val_recall, val_avg_precision, val_auc = model_metrics(val_labels, val_probs)"
   ]
  },
  {
   "cell_type": "code",
   "execution_count": 34,
   "metadata": {},
   "outputs": [],
   "source": [
    "#model = torch.load(\"EPOCH_Model_2.pkl\")"
   ]
  },
  {
   "cell_type": "markdown",
   "metadata": {
    "id": "xXi8170h9Gg6"
   },
   "source": [
    "## Test"
   ]
  },
  {
   "cell_type": "code",
   "execution_count": 55,
   "metadata": {
    "colab": {
     "base_uri": "https://localhost:8080/"
    },
    "id": "hbryVtXC-shI",
    "outputId": "dea91566-4807-4371-a08e-aae6e66c63bd"
   },
   "outputs": [
    {
     "name": "stdout",
     "output_type": "stream",
     "text": [
      "0 28.608876953125\n",
      "50 8204.735947265624\n",
      "100 24330.407552083332\n",
      "150 44010.32234375\n",
      "test loss: tensor(114.9616, device='cuda:0')\n",
      "accuracy: tensor(0.1451, device='cuda:0')\n"
     ]
    }
   ],
   "source": [
    "total_test_correct = 0.0\n",
    "examples = []\n",
    "iteration = 0\n",
    "t_start = 0\n",
    "t_end = batch_size\n",
    "test_iteration = 0\n",
    "test_loss = 0\n",
    "avg_loss = 0\n",
    "num_correct = 0\n",
    "#precisions = []\n",
    "test_probs = []\n",
    "test_labels = []\n",
    "\n",
    "with torch.no_grad():\n",
    "    while t_end < len(new_test[\"input_ids\"])//3: \n",
    "        test_iteration+=1\n",
    "        outputs_test = model(new_test[\"input_ids\"][t_start:t_end], BertModel)\n",
    "        test_y_prob = softmax(outputs_test)[:,1]\n",
    "        _, predicted_test = torch.max(outputs_test, 1)\n",
    "\n",
    "        labels_test = torch.tensor([int(x) for x in new_test['labels'][t_start:t_end]]).to(device)\n",
    "        testloss = criterion(outputs_test, labels_test)\n",
    "        test_loss += testloss\n",
    "        avg_loss += test_loss.item()\n",
    "\n",
    "        #precisions.append(precision_score(labels_test,predicted_test,zero_division=0))\n",
    "        num_correct += torch.sum(predicted_test == labels_test)\n",
    "        \n",
    "        test_probs.append(test_y_prob)\n",
    "        test_labels.append(labels_test)\n",
    "        \n",
    "        t_start += batch_size\n",
    "        t_end += batch_size\n",
    "        \n",
    "        if iteration%50==0:\n",
    "            print(iteration, avg_loss/(50*batch_size))\n",
    "            avg_loss = 0\n",
    "\n",
    "        iteration += 1\n",
    "    print ('test loss:', test_loss/len(new_test[\"labels\"]))\n",
    "    print ('accuracy:', num_correct/len(new_test[\"labels\"]))\n"
   ]
  },
  {
   "cell_type": "code",
   "execution_count": 56,
   "metadata": {
    "id": "ebvZtE3E-shI"
   },
   "outputs": [],
   "source": [
    "precision, recall, avg_precision, auc = model_metrics(test_labels, test_probs)"
   ]
  },
  {
   "cell_type": "code",
   "execution_count": 57,
   "metadata": {
    "id": "Lv1lexEv-shI",
    "outputId": "71f81f4b-dcad-4073-9646-8ab0f1133ee0"
   },
   "outputs": [
    {
     "data": {
      "text/plain": [
       "0.4958755003638331"
      ]
     },
     "execution_count": 57,
     "metadata": {},
     "output_type": "execute_result"
    }
   ],
   "source": [
    "auc"
   ]
  },
  {
   "cell_type": "code",
   "execution_count": 58,
   "metadata": {},
   "outputs": [
    {
     "data": {
      "text/plain": [
       "0.24554257751801156"
      ]
     },
     "execution_count": 58,
     "metadata": {},
     "output_type": "execute_result"
    }
   ],
   "source": [
    "avg_precision"
   ]
  },
  {
   "cell_type": "code",
   "execution_count": 59,
   "metadata": {},
   "outputs": [
    {
     "data": {
      "image/png": "[encoded data removed]",
      "text/plain": [
       "<Figure size 640x480 with 1 Axes>"
      ]
     },
     "metadata": {},
     "output_type": "display_data"
    }
   ],
   "source": [
    "plt.plot(recall, precision, label='AP {}'.format(round(avg_precision, 3)))\n",
    "plt.xlabel(\"Recall\")\n",
    "plt.ylabel(\"Precision\")\n",
    "plt.axhline(y=0.25, color='r', linestyle='-',label='No Skill')# plt.ylim([0, 1.1])\n",
    "plt.legend()\n",
    "plt.show()"
   ]
  }
 ],
 "metadata": {
  "accelerator": "GPU",
  "colab": {
   "collapsed_sections": [],
   "machine_shape": "hm",
   "name": "Downstream_Task_With_Downsample.ipynb",
   "provenance": []
  },
  "kernelspec": {
   "display_name": "Python 3",
   "language": "python",
   "name": "python3"
  },
  "language_info": {
   "codemirror_mode": {
    "name": "ipython",
    "version": 3
   },
   "file_extension": ".py",
   "mimetype": "text/x-python",
   "name": "python",
   "nbconvert_exporter": "python",
   "pygments_lexer": "ipython3",
   "version": "3.7.4"
  }
 },
 "nbformat": 4,
 "nbformat_minor": 1
}
