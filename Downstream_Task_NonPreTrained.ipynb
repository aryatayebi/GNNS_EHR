{
 "cells": [
  {
   "cell_type": "code",
   "execution_count": 1,
   "metadata": {
    "id": "nnLXdNy0KNA7"
   },
   "outputs": [
    {
     "name": "stderr",
     "output_type": "stream",
     "text": [
      "Matplotlib created a temporary config/cache directory at /tmp/matplotlib-iele2mwu because the default path (/gpfs/home/nsj244/.config/matplotlib) is not a writable directory; it is highly recommended to set the MPLCONFIGDIR environment variable to a writable directory, in particular to speed up the import of Matplotlib and to better support multiprocessing.\n"
     ]
    }
   ],
   "source": [
    "import pickle\n",
    "import pandas as pd\n",
    "import torch\n",
    "import scipy.sparse\n",
    "import numpy as np\n",
    "from tqdm.auto import tqdm\n",
    "from sklearn.metrics import precision_score, recall_score, average_precision_score, precision_recall_curve, roc_auc_score, roc_curve \n",
    "import matplotlib.pyplot as plt\n"
   ]
  },
  {
   "cell_type": "code",
   "execution_count": 4,
   "metadata": {
    "id": "NvfKeHCHKNA_"
   },
   "outputs": [],
   "source": [
    "xallFile = \"/gpfs/data/razavianlab/capstone/2021_ehr/preprocessed_xall_with_outcome.npz\"\n",
    "data = scipy.sparse.load_npz(xallFile)"
   ]
  },
  {
   "cell_type": "code",
   "execution_count": 6,
   "metadata": {
    "id": "2CdAUHo4KNBA"
   },
   "outputs": [],
   "source": [
    "outcomes = (data[:, -1])\n",
    "outcomes = outcomes.toarray()"
   ]
  },
  {
   "cell_type": "code",
   "execution_count": 7,
   "metadata": {
    "id": "6Xvs40NaKNBC"
   },
   "outputs": [],
   "source": [
    "with open('mapping_dict_LARGE.pkl', 'rb') as f:\n",
    "    mapping_dict = pickle.load(f)\n",
    "    \n",
    "with open('final_list_modified_LARGE.pkl', 'rb') as f:\n",
    "    final_list_modified = pickle.load(f)\n",
    "    \n",
    "with open('study_indexes_LARGE.pkl', 'rb') as f:\n",
    "    study_indexes = pickle.load(f)"
   ]
  },
  {
   "cell_type": "code",
   "execution_count": 8,
   "metadata": {},
   "outputs": [
    {
     "data": {
      "text/plain": [
       "1799820"
      ]
     },
     "execution_count": 8,
     "metadata": {},
     "output_type": "execute_result"
    }
   ],
   "source": [
    "len(final_list_modified)"
   ]
  },
  {
   "cell_type": "code",
   "execution_count": 9,
   "metadata": {},
   "outputs": [
    {
     "data": {
      "text/plain": [
       "59840"
      ]
     },
     "execution_count": 9,
     "metadata": {},
     "output_type": "execute_result"
    }
   ],
   "source": [
    "max(mapping_dict.values())"
   ]
  },
  {
   "cell_type": "code",
   "execution_count": 10,
   "metadata": {},
   "outputs": [],
   "source": [
    "def train_downsample(NON_DEM_TO_DEM_TRAIN_RATIO, PRECENTAGE_DEMENTIA_TRAINING, dementia_outcomes, study_indexes, final_list_modified):\n",
    "\n",
    "    train_inputs = {}\n",
    "\n",
    "    # getting first 10% of len(dementia_outcomes == 1)\n",
    "    max_train_dementia_index = int(len(np.where(dementia_outcomes == 1)[0])*PRECENTAGE_DEMENTIA_TRAINING)\n",
    "    print(\"Amount of training dementia cases:\", max_train_dementia_index)\n",
    "    # getting ratio multiple of max_train_dementia_index for (dementia_outcomes == 0)\n",
    "    max_train_NONdementia_index = NON_DEM_TO_DEM_TRAIN_RATIO * max_train_dementia_index\n",
    "    print(\"Amount of training non dementia cases:\", max_train_NONdementia_index)\n",
    "\n",
    "    # concatenating indexes of dementia and non dementia studies chosen for training\n",
    "    train_dem_inds = np.where(dementia_outcomes == 1)[0][:max_train_dementia_index]\n",
    "    train_NONdem_inds = np.where(dementia_outcomes == 0)[0][:max_train_NONdementia_index]\n",
    "    train_inds = np.concatenate((train_dem_inds,train_NONdem_inds), axis=0)\n",
    "\n",
    "    # randomly shuffling indecies such that 0s and 1s mixed for training\n",
    "    random.shuffle(train_inds)\n",
    "    train_inputs[\"labels\"] = dementia_outcomes[train_inds]\n",
    "    train_inputs[\"input_ids\"] = list(zip(np.array(study_indexes,dtype=object)[train_inds],np.array(final_list_modified,dtype=object)[train_inds]))\n",
    "\n",
    "    print(round(len(train_inds)/len(dementia_outcomes),4), \"of overall data used for train\")\n",
    "\n",
    "    return train_inputs, train_inds\n",
    "\n",
    "def val_test_split(train_inds, study_indexes, dementia_outcomes, final_list_modified):\n",
    "\n",
    "    val_inputs = {}\n",
    "    test_inputs = {}\n",
    "\n",
    "    train_inds.sort()\n",
    "    study_trains = np.array(study_indexes)[train_inds]\n",
    "    study_trains_max = study_trains[len(study_trains)-1]\n",
    "\n",
    "    # finding last study used in training\n",
    "    final_train_ind = 0\n",
    "    for index, i in enumerate(study_indexes):\n",
    "        if i == study_trains_max:\n",
    "            final_train_ind = index\n",
    "\n",
    "\n",
    "    # only considering studies that are after last train study (chance of patient overlap if including data prior to last train study)\n",
    "    post_train_study_indexes = study_indexes[(final_train_ind+1):]\n",
    "    post_train_final_list = final_list_modified[(final_train_ind+1):]\n",
    "    post_train_dementia = dementia_outcomes[(final_train_ind+1):]\n",
    "\n",
    "    # splitting validation and test equally\n",
    "    split = len(post_train_dementia)//2\n",
    "\n",
    "    # inputs ids\n",
    "    val_inputs[\"input_ids\"] = list(zip(post_train_study_indexes[:split],post_train_final_list[:split]))\n",
    "    test_inputs[\"input_ids\"] = list(zip(post_train_study_indexes[split:],post_train_final_list[split:]))\n",
    "\n",
    "    # labels\n",
    "    val_inputs[\"labels\"] = post_train_dementia[:split]\n",
    "    test_inputs[\"labels\"] = post_train_dementia[split:]\n",
    "\n",
    "    print(\"Amount of val cases:\", len(val_inputs[\"labels\"]), \"which is \", round(len(val_inputs[\"labels\"])/len(study_indexes),4),\"of the dataset\")\n",
    "    print(\"Amount of test cases:\", len(test_inputs[\"labels\"]), \"which is \", round(len(test_inputs[\"labels\"])/len(study_indexes),4) ,\"of the dataset\")\n",
    "\n",
    "    return val_inputs, test_inputs\n"
   ]
  },
  {
   "cell_type": "code",
   "execution_count": 11,
   "metadata": {
    "id": "-aT1U_JAKNBD"
   },
   "outputs": [
    {
     "name": "stdout",
     "output_type": "stream",
     "text": [
      "1799820 1799820 1799820\n",
      "Amount of training dementia cases: 13072\n",
      "Amount of training non dementia cases: 39216\n",
      "0.0291 of overall data used for train\n",
      "Amount of val cases: 265121 which is  0.1473 of the dataset\n",
      "Amount of test cases: 265122 which is  0.1473 of the dataset\n"
     ]
    },
    {
     "data": {
      "text/plain": [
       "(52288, 265121, 265122)"
      ]
     },
     "execution_count": 11,
     "metadata": {},
     "output_type": "execute_result"
    }
   ],
   "source": [
    "import random\n",
    "random.seed(10)\n",
    "\n",
    "dementia_outcomes = []\n",
    "\n",
    "study_indexes.sort()\n",
    "\n",
    "for index in study_indexes:\n",
    "    dementia_outcomes.append(outcomes[index])\n",
    "dementia_outcomes = np.array(dementia_outcomes)\n",
    "\n",
    "print(len(dementia_outcomes), len(study_indexes), len(final_list_modified))\n",
    "\n",
    "# ratio of downsample\n",
    "NON_DEM_TO_DEM_TRAIN_RATIO = 3\n",
    "PRECENTAGE_DEMENTIA_TRAINING = .7\n",
    "\n",
    "train_inputs, train_inds = train_downsample(NON_DEM_TO_DEM_TRAIN_RATIO, PRECENTAGE_DEMENTIA_TRAINING, dementia_outcomes, study_indexes, final_list_modified)\n",
    "val_inputs, test_inputs = val_test_split(train_inds, study_indexes, dementia_outcomes, final_list_modified)\n",
    "\n",
    "len(train_inputs[\"input_ids\"]), len(val_inputs[\"input_ids\"]), len(test_inputs[\"input_ids\"])\n"
   ]
  },
  {
   "cell_type": "code",
   "execution_count": 15,
   "metadata": {
    "id": "O_tmLJWVKNBH"
   },
   "outputs": [],
   "source": [
    "import torch.nn as nn\n",
    "    \n",
    "class OurDataset(torch.utils.data.Dataset):\n",
    "    def __init__(self, encodings):\n",
    "        self.encodings = encodings\n",
    "    def __getitem__(self, idx): \n",
    "        return {key: torch.tensor(val[idx]) for key, val in self.encodings.items()}\n",
    "    def __len__(self):\n",
    "        return len(self.encodings[\"input_ids\"])"
   ]
  },
  {
   "cell_type": "markdown",
   "metadata": {
    "id": "oliEd0c0OP1f"
   },
   "source": [
    "### Model"
   ]
  },
  {
   "cell_type": "code",
   "execution_count": 16,
   "metadata": {},
   "outputs": [],
   "source": [
    "## Without Pretrained Embeddings\n",
    "#input_dim = torch.max(train_inputs['input_ids'])\n",
    "from torch.nn.utils.rnn import pad_sequence\n",
    "def padded_ids(train_inputs, features):\n",
    "    emb_matrix = torch.zeros((len(train_inputs), features + 1))\n",
    "    \n",
    "    for i, (pid, cids) in enumerate(train_inputs):\n",
    "        for cid in cids:\n",
    "            emb_matrix[i, cid] = 1\n",
    "        \n",
    "    return emb_matrix\n",
    "    \n",
    "    "
   ]
  },
  {
   "cell_type": "code",
   "execution_count": 17,
   "metadata": {},
   "outputs": [],
   "source": [
    "features = max([max(train_inputs['input_ids'][i][1]) for i in range(len(train_inputs['input_ids']))])"
   ]
  },
  {
   "cell_type": "code",
   "execution_count": 18,
   "metadata": {},
   "outputs": [
    {
     "data": {
      "text/plain": [
       "59840"
      ]
     },
     "execution_count": 18,
     "metadata": {},
     "output_type": "execute_result"
    }
   ],
   "source": [
    "features"
   ]
  },
  {
   "cell_type": "code",
   "execution_count": 19,
   "metadata": {},
   "outputs": [
    {
     "data": {
      "text/plain": [
       "tensor([[0., 0., 0.,  ..., 0., 0., 0.],\n",
       "        [0., 0., 0.,  ..., 0., 0., 0.],\n",
       "        [0., 0., 0.,  ..., 0., 0., 0.],\n",
       "        ...,\n",
       "        [0., 0., 0.,  ..., 0., 0., 0.],\n",
       "        [0., 0., 0.,  ..., 0., 0., 0.],\n",
       "        [0., 0., 0.,  ..., 0., 0., 0.]])"
      ]
     },
     "execution_count": 19,
     "metadata": {},
     "output_type": "execute_result"
    }
   ],
   "source": [
    "ids = train_inputs['input_ids'][0:16]\n",
    "#padded_ids(ids, features)\n",
    "#padded_to_onehot(padded_ids(ids), max(mapping_dict.values()))"
   ]
  },
  {
   "cell_type": "code",
   "execution_count": 20,
   "metadata": {},
   "outputs": [],
   "source": [
    "class LogisticRegressionV2(torch.nn.Module):\n",
    "    def __init__(self, input_dim, output_dim):\n",
    "        super(LogisticRegressionV2, self).__init__()\n",
    "        self.input_dim = input_dim\n",
    "        self.output_dim = output_dim\n",
    "        self.linear = torch.nn.Linear(self.input_dim+1, 2)\n",
    "        \n",
    "    def forward(self, x):\n",
    "        x = padded_ids(x, self.input_dim).to(device)\n",
    "        outputs = self.linear(x)\n",
    "\n",
    "        return outputs"
   ]
  },
  {
   "cell_type": "code",
   "execution_count": 21,
   "metadata": {},
   "outputs": [],
   "source": [
    "batch_size = 32\n",
    "epochs = 3\n",
    "lr_rate = 0.01\n",
    "input_dim = features\n",
    "output_dim = 2"
   ]
  },
  {
   "cell_type": "code",
   "execution_count": 22,
   "metadata": {},
   "outputs": [
    {
     "name": "stdout",
     "output_type": "stream",
     "text": [
      "sending model to  cuda\n"
     ]
    }
   ],
   "source": [
    "device = torch.device(\"cuda\") if torch.cuda.is_available() else torch.device(\"cpu\")\n",
    "#device = torch.device(\"cpu\")\n",
    "print(\"sending model to \", device)"
   ]
  },
  {
   "cell_type": "code",
   "execution_count": 23,
   "metadata": {},
   "outputs": [
    {
     "data": {
      "text/plain": [
       "LogisticRegressionV2(\n",
       "  (linear): Linear(in_features=59841, out_features=2, bias=True)\n",
       ")"
      ]
     },
     "execution_count": 23,
     "metadata": {},
     "output_type": "execute_result"
    }
   ],
   "source": [
    "model = LogisticRegressionV2(input_dim, output_dim).to(device)\n",
    "\n",
    "criterion = torch.nn.CrossEntropyLoss(weight = torch.tensor((1.0,3.0))).to(device) # computes softmax and then the cross entropy\n",
    "softmax = torch.nn.Softmax(dim=1)\n",
    "optimizer = torch.optim.SGD(model.parameters(), lr=lr_rate)\n",
    "\n",
    "model.train()"
   ]
  },
  {
   "cell_type": "markdown",
   "metadata": {
    "id": "IN0ClOu-0vQi"
   },
   "source": [
    "### Training"
   ]
  },
  {
   "cell_type": "code",
   "execution_count": 24,
   "metadata": {
    "colab": {
     "base_uri": "https://localhost:8080/"
    },
    "id": "0MX7mnt0xIRZ",
    "outputId": "675d149d-16e9-422b-9622-fbdfb79489a7"
   },
   "outputs": [
    {
     "name": "stdout",
     "output_type": "stream",
     "text": [
      "epoch 0\n",
      "0 tensor(0.0014, device='cuda:0', grad_fn=<DivBackward0>)\n",
      "500 tensor(0.6930, device='cuda:0', grad_fn=<DivBackward0>)\n",
      "1000 tensor(0.6936, device='cuda:0', grad_fn=<DivBackward0>)\n",
      "1500 tensor(0.6932, device='cuda:0', grad_fn=<DivBackward0>)\n",
      "epoch 1\n",
      "0 tensor(0.0014, device='cuda:0', grad_fn=<DivBackward0>)\n",
      "500 tensor(0.6924, device='cuda:0', grad_fn=<DivBackward0>)\n",
      "1000 tensor(0.6927, device='cuda:0', grad_fn=<DivBackward0>)\n",
      "1500 tensor(0.6924, device='cuda:0', grad_fn=<DivBackward0>)\n",
      "epoch 2\n",
      "0 tensor(0.0014, device='cuda:0', grad_fn=<DivBackward0>)\n",
      "500 tensor(0.6918, device='cuda:0', grad_fn=<DivBackward0>)\n",
      "1000 tensor(0.6920, device='cuda:0', grad_fn=<DivBackward0>)\n",
      "1500 tensor(0.6918, device='cuda:0', grad_fn=<DivBackward0>)\n"
     ]
    }
   ],
   "source": [
    "\n",
    "train_labels = []\n",
    "train_probs = []\n",
    "for epoch in range(epochs):\n",
    "\n",
    "    print ('epoch', epoch)\n",
    "\n",
    "    start = 0\n",
    "    end = batch_size\n",
    "    iteration = 0\n",
    "    loss_avg = 0\n",
    "    while end < len(train_inputs[\"input_ids\"]): \n",
    "\n",
    "        x = train_inputs[\"input_ids\"][start:end]\n",
    "        outputs = model(x)\n",
    "        _, predicted = torch.max(outputs, 1)\n",
    "\n",
    "        labels = torch.tensor([int(x) for x in train_inputs['labels'][start:end] ])\n",
    "        train_y_prob = softmax(outputs)[:,1].detach()\n",
    "\n",
    "        # appending metrics\n",
    "        train_probs.append(train_y_prob)\n",
    "        train_labels.append(labels)\n",
    "\n",
    "        # step\n",
    "        loss = criterion(outputs.to(device), labels.to(device))\n",
    "        loss.backward()\n",
    "        optimizer.step()\n",
    "        optimizer.zero_grad()\n",
    "\n",
    "        loss_avg += loss\n",
    "        # saving model\n",
    "        if (iteration%500 == 0):\n",
    "            print (iteration, loss_avg/500)\n",
    "            #file.write(str(epoch) + \" at iteration \" + str(iteration) + \"\\n\")\n",
    "            #file.write(\"loss \" + str(loss) + \"\\n\")\n",
    "            #torch.save(model, 'model.pkl')\n",
    "            loss_avg = 0\n",
    "        \n",
    "        iteration += 1\n",
    "        start += batch_size\n",
    "        end += batch_size"
   ]
  },
  {
   "cell_type": "code",
   "execution_count": 25,
   "metadata": {
    "id": "wBSTHxkxON77"
   },
   "outputs": [],
   "source": [
    "def train_metrics(labs, probs):\n",
    "    np_labs = torch.cat(labs).numpy()\n",
    "    np_probs = torch.cat(probs).cpu().numpy()\n",
    "    precision, recall, thresholds = precision_recall_curve(np_labs,np_probs)\n",
    "    avg_precision = average_precision_score(np_labs,np_probs)\n",
    "    \n",
    "    fpr, tpr, thresholds = roc_curve(np_labs, np_probs)\n",
    "    auc = roc_auc_score(np_labs,np_probs)\n",
    "    return precision, recall, avg_precision, auc, fpr, tpr, thresholds"
   ]
  },
  {
   "cell_type": "code",
   "execution_count": 26,
   "metadata": {
    "id": "dRsWbIyiOXDv"
   },
   "outputs": [],
   "source": [
    "precision, recall, avg_precision, auc, fpr, tpr, thresholds = train_metrics(train_labels, train_probs)"
   ]
  },
  {
   "cell_type": "code",
   "execution_count": 27,
   "metadata": {
    "colab": {
     "base_uri": "https://localhost:8080/"
    },
    "id": "eXoW7UBjOaO1",
    "outputId": "eb1f003d-bc49-4bd4-f4dc-7c4f26edd22a"
   },
   "outputs": [
    {
     "data": {
      "text/plain": [
       "0.2577018502104942"
      ]
     },
     "execution_count": 27,
     "metadata": {},
     "output_type": "execute_result"
    }
   ],
   "source": [
    "avg_precision"
   ]
  },
  {
   "cell_type": "code",
   "execution_count": 28,
   "metadata": {
    "colab": {
     "base_uri": "https://localhost:8080/"
    },
    "id": "Vo0akezTRzh-",
    "outputId": "c4406732-3073-4ce2-bb1f-034532aced99"
   },
   "outputs": [
    {
     "data": {
      "text/plain": [
       "0.5084639823910572"
      ]
     },
     "execution_count": 28,
     "metadata": {},
     "output_type": "execute_result"
    }
   ],
   "source": [
    "auc"
   ]
  },
  {
   "cell_type": "code",
   "execution_count": 29,
   "metadata": {},
   "outputs": [
    {
     "data": {
      "image/png": "[encoded data removed]",
      "text/plain": [
       "<Figure size 640x480 with 1 Axes>"
      ]
     },
     "metadata": {},
     "output_type": "display_data"
    }
   ],
   "source": [
    "plt.plot([0, 1], [0, 1], color=\"navy\", linestyle=\"--\")\n",
    "plt.plot(fpr, tpr, label='AUC {}'.format(round(auc, 3)))\n",
    "plt.title('ROC Curve')\n",
    "plt.xlabel('False Positive Rate')\n",
    "plt.ylabel('True Positive Rate')\n",
    "plt.legend()\n",
    "plt.show()"
   ]
  },
  {
   "cell_type": "code",
   "execution_count": 30,
   "metadata": {},
   "outputs": [
    {
     "data": {
      "text/plain": [
       "0.25"
      ]
     },
     "execution_count": 30,
     "metadata": {},
     "output_type": "execute_result"
    }
   ],
   "source": [
    "len(np.where(train_inputs['labels'] == 1)[0])/len(train_inputs['labels'])"
   ]
  },
  {
   "cell_type": "code",
   "execution_count": 40,
   "metadata": {
    "colab": {
     "base_uri": "https://localhost:8080/",
     "height": 282
    },
    "id": "FmtzKFlCP9KD",
    "outputId": "900a99e7-74d9-40a7-b04d-baa8a6d84086"
   },
   "outputs": [
    {
     "data": {
      "image/png": "[encoded data removed]",
      "text/plain": [
       "<Figure size 640x480 with 1 Axes>"
      ]
     },
     "metadata": {},
     "output_type": "display_data"
    }
   ],
   "source": [
    "plt.plot(recall[:-1000], precision[:-1000], label='AP {}'.format(.257))\n",
    "plt.title('Precision Recall Curve')\n",
    "plt.xlabel('Recall')\n",
    "plt.ylabel('Precision')\n",
    "#plt.axhline(y=0.25, color='r', linestyle='-', label=\"No Skill\")# plt.ylim([0, 1.1])\n",
    "\n",
    "plt.legend()\n",
    "plt.show()"
   ]
  },
  {
   "cell_type": "markdown",
   "metadata": {
    "scrolled": true
   },
   "source": [
    "### Validation"
   ]
  },
  {
   "cell_type": "code",
   "execution_count": 35,
   "metadata": {
    "colab": {
     "base_uri": "https://localhost:8080/"
    },
    "id": "JHER-Ptu2-H0",
    "outputId": "fe8eb617-feac-4801-d35a-0ffce16095d9",
    "scrolled": true
   },
   "outputs": [],
   "source": [
    "\n",
    "val_batch = batch_size\n",
    "v_start = 0\n",
    "v_end = batch_size\n",
    "val_iteration = 0\n",
    "val_loss = 0\n",
    "num_correct = 0\n",
    "precisions = []\n",
    "#recalls = []\n",
    "test_probs = []\n",
    "test_labels = []\n",
    "with torch.no_grad():\n",
    "    #for val_batch in val_dataloader:\n",
    "    while v_end < len(val_inputs[\"input_ids\"]): \n",
    "        val_iteration+=1\n",
    "        outputs_val = model(val_inputs[\"input_ids\"][v_start:v_end])\n",
    "        val_y_prob = softmax(outputs_val)[:,1]\n",
    "        _, predicted_val = torch.max(outputs_val, 1)\n",
    "\n",
    "        labels_val = torch.tensor([int(x) for x in val_inputs['labels'][v_start:v_end]])\n",
    "        val_loss = criterion(outputs_val, labels_val)\n",
    "        val_loss+= val_loss\n",
    "\n",
    "        precisions.append(precision_score(labels_val,predicted_val,zero_division=0))\n",
    "        recalls.append(recall_score(labels_val,predicted_val))\n",
    "        num_correct += torch.sum(predicted_val == labels_val)\n",
    "\n",
    "        v_start += batch_size\n",
    "        v_end += batch_size\n",
    "\n",
    "\n",
    "    print ('validation loss at', str(iteration), val_loss/len(val_dataset))\n",
    "    print ('accuracy at', str(iteration), num_correct/len(val_dataset))\n",
    "    print ('avg precision at', str(iteration), np.mean(precisions))\n",
    "    print ('avg recall at', str(iteration), np.mean(recalls))\n",
    "    print ('')\n",
    "    print ('')\n",
    "    print ('')\n"
   ]
  },
  {
   "cell_type": "markdown",
   "metadata": {},
   "source": [
    "### Test"
   ]
  },
  {
   "cell_type": "code",
   "execution_count": 117,
   "metadata": {},
   "outputs": [
    {
     "name": "stdout",
     "output_type": "stream",
     "text": [
      "test loss: tensor(2.6665e-06)\n",
      "accuracy: tensor(0.9908)\n"
     ]
    }
   ],
   "source": [
    "total_test_correct = 0.0\n",
    "examples = []\n",
    "\n",
    "t_start = 0\n",
    "t_end = batch_size\n",
    "test_iteration = 0\n",
    "test_loss = 0\n",
    "num_correct = 0\n",
    "precisions = []\n",
    "test_probs = []\n",
    "test_labels = []\n",
    "\n",
    "with torch.no_grad():\n",
    "    while t_end < len(test_inputs[\"input_ids\"]): \n",
    "        test_iteration+=1\n",
    "        outputs_test = model(test_inputs[\"input_ids\"][t_start:t_end])\n",
    "        test_y_prob = softmax(outputs_test)[:,1]\n",
    "        _, predicted_test = torch.max(outputs_test, 1)\n",
    "\n",
    "        labels_test = torch.tensor([int(x) for x in test_inputs['labels'][t_start:t_end]])\n",
    "        test_loss = criterion(outputs_test, labels_test)\n",
    "        test_loss += test_loss\n",
    "\n",
    "        precisions.append(precision_score(labels_test,predicted_test,zero_division=0))\n",
    "        num_correct += torch.sum(predicted_test == labels_test)\n",
    "        \n",
    "        test_probs.append(test_y_prob)\n",
    "        test_labels.append(labels_test)\n",
    "        \n",
    "        t_start += batch_size\n",
    "        t_end += batch_size\n",
    "\n",
    "\n",
    "    print ('test loss:', test_loss/len(test_inputs[\"input_ids\"]))\n",
    "    print ('accuracy:', num_correct/len(test_inputs[\"input_ids\"]))\n"
   ]
  },
  {
   "cell_type": "code",
   "execution_count": 133,
   "metadata": {},
   "outputs": [],
   "source": [
    "t_precision, t_recall, t_avg_precision, t_auc, t_fpr, t_tpr, thresholds = train_metrics(test_labels, test_probs)"
   ]
  },
  {
   "cell_type": "code",
   "execution_count": 134,
   "metadata": {},
   "outputs": [
    {
     "data": {
      "text/plain": [
       "0.5078796984119686"
      ]
     },
     "execution_count": 134,
     "metadata": {},
     "output_type": "execute_result"
    }
   ],
   "source": [
    "t_auc"
   ]
  },
  {
   "cell_type": "code",
   "execution_count": 135,
   "metadata": {},
   "outputs": [
    {
     "data": {
      "text/plain": [
       "0.008649486303289903"
      ]
     },
     "execution_count": 135,
     "metadata": {},
     "output_type": "execute_result"
    }
   ],
   "source": [
    "t_avg_precision"
   ]
  }
 ],
 "metadata": {
  "accelerator": "GPU",
  "colab": {
   "collapsed_sections": [],
   "machine_shape": "hm",
   "name": "Downstream_Task.ipynb",
   "provenance": []
  },
  "kernelspec": {
   "display_name": "Python 3",
   "language": "python",
   "name": "python3"
  },
  "language_info": {
   "codemirror_mode": {
    "name": "ipython",
    "version": 3
   },
   "file_extension": ".py",
   "mimetype": "text/x-python",
   "name": "python",
   "nbconvert_exporter": "python",
   "pygments_lexer": "ipython3",
   "version": "3.7.4"
  }
 },
 "nbformat": 4,
 "nbformat_minor": 1
}
