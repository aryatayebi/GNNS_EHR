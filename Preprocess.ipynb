{
 "cells": [
  {
   "cell_type": "code",
   "execution_count": 1,
   "metadata": {},
   "outputs": [],
   "source": [
    "import numpy as np\n",
    "from scipy.sparse import csr_matrix, hstack\n",
    "from scipy.stats import norm\n",
    "\n",
    "\n",
    "def fix_age(x, headers):\n",
    "    ix_age = np.nonzero([h.startswith('demographics_age') for h in headers])[0]\n",
    "    print('AGE IX is:', ix_age)\n",
    "    xage = x[:, ix_age].toarray()\n",
    "    print('turning age into bins: (original x shape:)', x.shape)\n",
    "    bins = [1, 5, 10, 20, 30, 40, 45, 50, 55, 60, 65, 70, 75, 80, 85, 90, 95, 100, 150]\n",
    "    xagebins = np.hstack([np.array((xage >= bins[i]) & (xage < bins[i+1])) for i in range(0, len(bins)-1)])\n",
    "    headersnew = np.array(['demographics_age[between_'+str(bins[i])+'_and_'+str(bins[i+1])+']'\n",
    "                           for i in range(0, len(bins)-1)])\n",
    "    x = hstack([x, csr_matrix(xagebins)], format='csr')\n",
    "    headers = np.hstack([headers, headersnew])\n",
    "    print('done. x is now of shape:', x.shape)\n",
    "    return x, headers\n",
    "\n",
    "\n",
    "def fix_binary(x, headers):\n",
    "    print('fixing diagnosis and procedure columns and adding bins: (original x shape:)', x.shape) \n",
    "    diag_ix = np.nonzero([h.startswith(\"Diagnosis:\") or h.startswith(\"ProcedureCPT\") or h.startswith(\"Medication\")\n",
    "                          for h in headers])[0]\n",
    "    bins = [0, 2, 10]\n",
    "    xbin = hstack([(x[:, diag_ix] > bins[i]) for i in range(len(bins))], format='csr')\n",
    "    headersbin = np.hstack([[h+'[count>'+str(bins[i])+']' for h in headers[diag_ix]] for i in range(len(bins))])\n",
    "    x = hstack([xbin, x], format='csr')\n",
    "    headers = np.hstack([headersbin, headers])\n",
    "    print('done. x is now of shape:', x.shape)\n",
    "    return x, headers\n",
    "\n",
    "\n",
    "def normalize_csr_matrix(x, headers, meanarr=None, stdarr=None, ixnormed=None, threshold_to_clip=2000, epsilon=0.0001):\n",
    "    xnorm = x.copy()\n",
    "    if meanarr is None and stdarr is None and ixnormed is None:\n",
    "        nnz_cnt_denominator = np.array((x != 0).sum(axis=0)).ravel()\n",
    "        nnz_columns_ix = (nnz_cnt_denominator == 0).ravel()\n",
    "        nnz_cnt_denominator[nnz_columns_ix] = 1.0 \n",
    "        nnz_mean_sum = np.array(x.sum(axis=0)).ravel()\n",
    "        mean_array = nnz_mean_sum/nnz_cnt_denominator\n",
    "        nnz_std_sum_part1 = np.array((x.multiply(x)).sum(axis=0)).ravel()\n",
    "        std_array = np.sqrt((nnz_std_sum_part1/nnz_cnt_denominator) - (mean_array ** 2))\n",
    "        ix_to_normalize = (std_array != 0) & (std_array < threshold_to_clip) & (np.array([hi.startswith('Lab') or hi == 'demographics_age' for hi in headers]))\n",
    "        ix_to_not_normalize = (True ^ ix_to_normalize).nonzero()[0].ravel()\n",
    "        mean_array[ix_to_not_normalize] = 0.0\n",
    "        std_array[ix_to_not_normalize] = 1.0\n",
    "    else:\n",
    "        print('mean and sd already specified. normalizing with given mean/sd.')\n",
    "        mean_array = meanarr\n",
    "        std_array = stdarr\n",
    "        ix_to_normalize = np.zeros(std_array.shape, dtype=bool)\n",
    "        ix_to_normalize[ixnormed] = True\n",
    "    # normalize the nonzero values: Note that we won't eliminate_zeros() here to keep the values that were equal\n",
    "    # to the mean available for next steps.\n",
    "    xnorm.data = (xnorm.data - mean_array[xnorm.indices])/std_array[xnorm.indices]\n",
    "    return xnorm, mean_array, std_array, ix_to_normalize.nonzero()[0].ravel()\n",
    "\n",
    "\n",
    "def pick_bin_columns(x, headers, ix_to_pick=None):\n",
    "    print('keeping only binary features (plus age): (original x shape:)', x.shape)\n",
    "    ix_age = np.nonzero([h == 'demographics_age' for h in headers])[0]\n",
    "    print('AGE IX is:', ix_age)\n",
    "    if ix_to_pick is None:\n",
    "        bin_ix = np.nonzero(((x.max(axis=0)).toarray().ravel() == 1).ravel() & ((x.min(axis=0)).toarray().ravel() == 0).ravel())[0]\n",
    "        bin_ix = np.union1d(bin_ix, ix_age)  # we will keep the age. At this point it is already normalized\n",
    "    else:\n",
    "        bin_ix = ix_to_pick\n",
    "    x = x[:, bin_ix]\n",
    "    headers = headers[bin_ix]\n",
    "    print('done. x is now of shape:', x.shape)\n",
    "    return x, headers, bin_ix\n",
    "\n",
    "\n",
    "def pick_freq_columns(x, headers, minfreq=100, source_freq_ix=None):\n",
    "    if source_freq_ix is None:\n",
    "        print((f'keeping only frequent columns that are observed at least in: {minfreq} rows: '\n",
    "               f'(original x shape: {x.shape}'))\n",
    "        freq_ix = np.nonzero(np.array((x != 0).sum(axis=0)).ravel() > minfreq)[0]\n",
    "    else:\n",
    "        freq_ix = source_freq_ix\n",
    "    print('total num of frequent columns:', len(freq_ix))\n",
    "    x = x[:, freq_ix]\n",
    "    headers = headers[freq_ix]\n",
    "    print('done. x is now of shape:', x.shape)\n",
    "    return x, headers, freq_ix\n",
    "\n",
    "\n",
    "# def load_preprocessed_data(datadir):\n",
    "#     (x, y, ylabel, headers, ixtrain, ixtest, mrns) = load_data(datadir)\n",
    "#     new_headers = pickle.load(open(datadir + '/new_headers.pkl', 'rb'))\n",
    "#     newx = pickle.load(open(datadir + '/new_x.pkl', 'rb'))\n",
    "#     return x, y, ylabel, headers, ixtrain, ixtest, mrns, newx, new_headers\n",
    "\n",
    "\n",
    "def get_or_rr_pval(x, y, headers):\n",
    "    print('computing pvalues')\n",
    " \n",
    "    ylabel = y.reshape(-1, 1)\n",
    "    ix_total_pos = np.nonzero(ylabel != 0)[0].ravel()\n",
    "    ix_total_neg = np.nonzero(ylabel == 0)[0].ravel()\n",
    "    total_neg_rows = ix_total_neg.shape[0]\n",
    "    total_pos_rows = ix_total_pos.shape[0]\n",
    "\n",
    "    bin_headers = (x.max(axis=0) == 1).toarray().ravel() & (x.min(axis=0) == 0).toarray().ravel()\n",
    "    non_bin_headers = (True ^ bin_headers) & (np.array(abs(x).sum(axis=0)).ravel() != 0)\n",
    "    print('binary headers total:', bin_headers.shape, 'non binary headers total:', non_bin_headers.shape)\n",
    "\n",
    "    de = np.array((x[ix_total_pos, :] != 0).sum(axis=0)).ravel()  # np.array((x != 0).multiply(ylabel > 0).sum(axis=0)).ravel() ;\n",
    "    he = np.array((x[ix_total_neg, :] != 0).sum(axis=0)).ravel()  # np.array((x != 0).multiply(ylabel == 0).sum(axis=0)).ravel();\n",
    "    dn = total_pos_rows - np.array((x[ix_total_pos, :] != 0).sum(axis=0)).ravel()  # np.array((x == 0).multiply(ylabel > 0).sum(axis=0)).ravel();\n",
    "    hn = total_neg_rows - np.array((x[ix_total_neg, :] != 0).sum(axis=0)).ravel()  # np.array((x == 0).multiply(ylabel == 0).sum(axis=0)).ravel();\n",
    "\n",
    "    reliable_ix_bin = (de != 0) & (he != 0) & (dn != 0) & (hn != 0) & bin_headers\n",
    "\n",
    "    or_ = (de/he)/(dn/hn)\n",
    "    or_ste = np.sqrt(1/de + 1/he + 1/dn + 1/hn)\n",
    "    or_low, or_high = np.exp(np.log(or_) - 1.96*or_ste), np.exp(np.log(or_) + 1.96*or_ste)\n",
    "    rr = (de/(de+he))/(dn/(dn+hn))\n",
    "    or_[non_bin_headers] = 0\n",
    "    or_ste[non_bin_headers] = 0\n",
    "    or_low[non_bin_headers] = 0\n",
    "    or_high[non_bin_headers] = 0\n",
    "    rr[non_bin_headers] = 0\n",
    "    pvalue_bin = 2 * norm.cdf(-1*(np.abs(np.log(or_))/or_ste))\n",
    "    pvalue_bin[True ^ reliable_ix_bin] = np.nan\n",
    "\n",
    "    xposnormed, means_pos, sd_pos, ix_pos_normed = normalize_csr_matrix(x[ix_total_pos, :], headers)\n",
    "    xnegnormed, means_neg, sd_neg, ix_neg_normed = normalize_csr_matrix(x[ix_total_neg, :], headers)\n",
    "    ix_pos_normed_array = np.array([True if i in ix_pos_normed else False for i in range(len(headers))])\n",
    "    ix_neg_normed_array = np.array([True if i in ix_neg_normed else False for i in range(len(headers))])\n",
    "    mds = means_pos - means_neg\n",
    "    var_pos = sd_pos ** 2\n",
    "    nnz_pos = np.array((x[ix_total_pos, :] != 0).sum(axis=0)).ravel()\n",
    "    var_neg = sd_neg ** 2\n",
    "    nnz_neg = np.array((x[ix_total_neg, :] != 0).sum(axis=0)).ravel()\n",
    "    ste = np.sqrt(var_pos/nnz_pos) + np.sqrt(var_neg/nnz_neg)\n",
    "    # LCL, UCL = MDs - 2*STE , MDs + 2*STE\n",
    "    z = mds/ste\n",
    "    reliable_ix_con = (non_bin_headers) & (ste != 0) & (ix_pos_normed_array == True) & (ix_neg_normed_array == True)\n",
    "    pvalue_cont = (2 * norm.cdf(-np.abs(z))).ravel()\n",
    "    pvalue_cont[True ^ reliable_ix_con] = np.nan\n",
    "\n",
    "\n",
    "def csr_mask_in_range(x, binlow, binhigh):\n",
    "    xmask = x.copy()\n",
    "    in_range_ix = (xmask.data >= binlow) & (xmask.data < binhigh)\n",
    "    non_in_range_ix = True ^ in_range_ix\n",
    "    xmask.data[in_range_ix] = 1\n",
    "    xmask.data[non_in_range_ix] = 0\n",
    "    xmask.eliminate_zeros()\n",
    "    return xmask\n",
    "\n",
    "\n",
    "def augment_data_with_std_cats(x, headers, meanarr=None, stdarr=None, ixnormed=None):\n",
    "    print('normalizing lab value columns. (original x shape:)', x.shape)\n",
    "    if meanarr is None and stdarr is None:\n",
    "        x, mean_array, std_array, ix_to_normalize = normalize_csr_matrix(x, headers)\n",
    "    else:\n",
    "        x, mean_array, std_array, ix_to_normalize = normalize_csr_matrix(x, headers, meanarr, stdarr, ixnormed)\n",
    "\n",
    "    nonbin_headers = headers[ix_to_normalize]\n",
    "    x2 = x[:, ix_to_normalize]\n",
    "    bins = [-10, -3, -1, -0.5, 0.5, 1, 3, 10]\n",
    "    print('augmenting those columns with dynamic bins')\n",
    "    headersnew = np.array([hi + '[normedValue_sd_between_' + str(bins[i]) + ',' + str(bins[i+1]) + ']'\n",
    "                           for i in range(0, len(bins)-1) for hi in nonbin_headers])\n",
    "    xlabsbins = []\n",
    "    for i in range(len(bins)-1):\n",
    "        binlow, binhigh = bins[i], bins[i+1]\n",
    "        # slow way:\n",
    "        # if (binlow < 0):\n",
    "        #     binlowMX = (x2 >= binlow)\n",
    "        # else:\n",
    "        #     binlowMX = (x2 >= binlow)\n",
    "        # if (binhigh > 0):\n",
    "        #     binhighMX = (x2 < binhigh) \n",
    "        # else:\n",
    "        #     binhighMX = (x2 < binhigh)\n",
    "        # xlabsbins.append( (x2 != 0).multiply(binlowMX).multiply(binhighMX) )\n",
    "        # fast way:\n",
    "        xlabsbins.append(csr_mask_in_range(x2, binlow, binhigh))\n",
    "    xlabsbins = hstack(xlabsbins, format='csr')\n",
    "    print('stacking the bins to new data')\n",
    "    x = hstack([xlabsbins, x], format='csr')\n",
    "    headers = np.hstack([headersnew, headers])\n",
    "    print('done adding bins for labs. x is now of shape:', x.shape)\n",
    "    return x, headers, mean_array, std_array, ix_to_normalize\n",
    "\n",
    "\n",
    "def pre_process_data(x_outcome, headers, source_preprocess_vars=None):\n",
    "    if source_preprocess_vars is None:\n",
    "        freq_ix = None\n",
    "        meanarr, stdarr, ixnormed = None, None, None\n",
    "        ix_to_pick = None\n",
    "    else:\n",
    "        freq_ix = source_preprocess_vars['freq_ix']\n",
    "        meanarr = source_preprocess_vars['meanarr']\n",
    "        stdarr = source_preprocess_vars['stdarr']\n",
    "        ixnormed = source_preprocess_vars['ixnormed']\n",
    "        ix_to_pick = source_preprocess_vars['ix_to_pick']\n",
    "\n",
    "    x_outcome, headers = fix_age(x_outcome, headers)\n",
    "    x_outcome, headers, freq_ix = pick_freq_columns(x_outcome, headers, 100, freq_ix)\n",
    "    x_outcome, headers, mean_array, std_array, ix_to_normalize = augment_data_with_std_cats(x_outcome, headers, meanarr,\n",
    "                                                                                            stdarr, ixnormed)\n",
    "    x_outcome, headers = fix_binary(x_outcome, headers)\n",
    "    x_outcome, headers, ix_to_pick = pick_bin_columns(x_outcome, headers, ix_to_pick)\n",
    "\n",
    "    preprocess_vars = {'freq_ix': freq_ix, 'meanarr': mean_array, 'stdarr': std_array,\n",
    "                       'ixnormed': ix_to_normalize, 'ix_to_pick': ix_to_pick}\n",
    "    return x_outcome, headers, preprocess_vars\n"
   ]
  },
  {
   "cell_type": "code",
   "execution_count": 2,
   "metadata": {},
   "outputs": [],
   "source": [
    "import pickle \n",
    "\n",
    "headerFile = \"/gpfs/data/razavianlab/capstone/2021_ehr/headers.pkl\"\n",
    "mrnsFile = \"/gpfs/data/razavianlab/capstone/2021_ehr/mrns_all_deid.pkl\"\n",
    "xallFile = \"/gpfs/data/razavianlab/capstone/2021_ehr/xall.pkl\""
   ]
  },
  {
   "cell_type": "code",
   "execution_count": 3,
   "metadata": {},
   "outputs": [],
   "source": [
    "headerArr = np.load(headerFile, allow_pickle=True)\n",
    "with open(xallFile, 'rb') as f:\n",
    "    data = pickle.load(f)"
   ]
  },
  {
   "cell_type": "code",
   "execution_count": 4,
   "metadata": {},
   "outputs": [
    {
     "name": "stdout",
     "output_type": "stream",
     "text": [
      "AGE IX is: [193517]\n",
      "turning age into bins: (original x shape:) (11044215, 470305)\n",
      "done. x is now of shape: (11044215, 470323)\n",
      "keeping only frequent columns that are observed at least in: 100 rows: (original x shape: (11044215, 470323)\n",
      "total num of frequent columns: 66914\n",
      "done. x is now of shape: (11044215, 66914)\n",
      "normalizing lab value columns. (original x shape:) (11044215, 66914)\n",
      "augmenting those columns with dynamic bins\n",
      "stacking the bins to new data\n",
      "done adding bins for labs. x is now of shape: (11044215, 71828)\n",
      "fixing diagnosis and procedure columns and adding bins: (original x shape:) (11044215, 71828)\n",
      "done. x is now of shape: (11044215, 270245)\n",
      "keeping only binary features (plus age): (original x shape:) (11044215, 270245)\n",
      "AGE IX is: [255298]\n",
      "done. x is now of shape: (11044215, 192330)\n"
     ]
    }
   ],
   "source": [
    "new_xall, headers, processed_vars = pre_process_data(data, headerArr)"
   ]
  },
  {
   "cell_type": "code",
   "execution_count": 152,
   "metadata": {},
   "outputs": [],
   "source": [
    "# function which removes specified row and col indices from csr matrix\n",
    "\n",
    "def delete_from_csr(mat, row_indices=[], col_indices=[]):\n",
    "    rows = []\n",
    "    cols = []\n",
    "    if row_indices:\n",
    "        rows = list(row_indices)\n",
    "    if col_indices:\n",
    "        cols = list(col_indices)\n",
    "\n",
    "    if len(rows) > 0 and len(cols) > 0:\n",
    "        row_mask = np.ones(mat.shape[0], dtype=bool)\n",
    "        row_mask[rows] = False\n",
    "        col_mask = np.ones(mat.shape[1], dtype=bool)\n",
    "        col_mask[cols] = False\n",
    "        return mat[row_mask][:,col_mask]\n",
    "    elif len(rows) > 0:\n",
    "        mask = np.ones(mat.shape[0], dtype=bool)\n",
    "        mask[rows] = False\n",
    "        return mat[mask]\n",
    "    elif len(cols) > 0:\n",
    "        mask = np.ones(mat.shape[1], dtype=bool)\n",
    "        mask[cols] = False\n",
    "        return mat[:,mask]\n",
    "    else:\n",
    "        return mat"
   ]
  },
  {
   "cell_type": "code",
   "execution_count": 153,
   "metadata": {},
   "outputs": [
    {
     "name": "stdout",
     "output_type": "stream",
     "text": [
      "before deleting age_demographics\n",
      "(11044215, 192330)\n"
     ]
    }
   ],
   "source": [
    "print ('before deleting age_demographics')\n",
    "print (new_xall.shape)"
   ]
  },
  {
   "cell_type": "code",
   "execution_count": 154,
   "metadata": {},
   "outputs": [],
   "source": [
    "# delete SIM columns from data\n",
    "age_demographics_index = 191846\n",
    "new_xall_v2 = delete_from_csr(new_xall, row_indices=[], col_indices=[age_demographics_index])"
   ]
  },
  {
   "cell_type": "code",
   "execution_count": 155,
   "metadata": {},
   "outputs": [
    {
     "name": "stdout",
     "output_type": "stream",
     "text": [
      "after deleting age_demographics\n",
      "(11044215, 192329)\n"
     ]
    }
   ],
   "source": [
    "print ('after deleting age_demographics')\n",
    "print (new_xall_v2.shape)"
   ]
  },
  {
   "cell_type": "code",
   "execution_count": 156,
   "metadata": {},
   "outputs": [],
   "source": [
    "# update headerArr with updated indices\n",
    "\n",
    "headers_v2 = np.delete(headers, [age_demographics_index])"
   ]
  },
  {
   "cell_type": "code",
   "execution_count": 172,
   "metadata": {},
   "outputs": [],
   "source": [
    "# example of a particular patient with their present medical codes\n",
    "\n",
    "patient_study_index = 1545"
   ]
  },
  {
   "cell_type": "code",
   "execution_count": 173,
   "metadata": {},
   "outputs": [
    {
     "data": {
      "text/plain": [
       "array([1., 1., 1., ..., 1., 1., 1.])"
      ]
     },
     "execution_count": 173,
     "metadata": {},
     "output_type": "execute_result"
    }
   ],
   "source": [
    "new_xall_v2.data[new_xall_v2.indptr[patient_study_index]:new_xall_v2.indptr[patient_study_index+1]]"
   ]
  },
  {
   "cell_type": "code",
   "execution_count": 174,
   "metadata": {},
   "outputs": [
    {
     "data": {
      "text/plain": [
       "array([192322, 191844, 191838, ...,    350,    349,    270], dtype=int32)"
      ]
     },
     "execution_count": 174,
     "metadata": {},
     "output_type": "execute_result"
    }
   ],
   "source": [
    "# find all column indicies of patient in study which are non-zero\n",
    "# potential input to BERT (mapping indices to strings and separating by spaces)\n",
    "\n",
    "new_xall_v2.indices[new_xall_v2.indptr[patient_study_index]:new_xall_v2.indptr[patient_study_index+1]]"
   ]
  },
  {
   "cell_type": "code",
   "execution_count": 175,
   "metadata": {},
   "outputs": [
    {
     "data": {
      "text/plain": [
       "array(['demographics_age[between_65_and_70]', 'demographics_GENDER_Male',\n",
       "       'demographics_RACE_Other Race', ...,\n",
       "       'Diagnosis:Malignant neoplasm of mandible C41.1[count>0]',\n",
       "       'Diagnosis:Malignant neoplasm of bones of skull and face C41.0[count>0]',\n",
       "       'Diagnosis:Malignant neoplasm of mouth, unspecified C06.9[count>0]'],\n",
       "      dtype='<U301')"
      ]
     },
     "execution_count": 175,
     "metadata": {},
     "output_type": "execute_result"
    }
   ],
   "source": [
    "# find all column names of patient in study which are non-zero\n",
    "# potential input to BERT (with spaces removed and separating column names by spaces)\n",
    "\n",
    "headers[list(new_xall_v2.indices[new_xall_v2.indptr[patient_study_index]:new_xall_v2.indptr[patient_study_index+1]])]"
   ]
  },
  {
   "cell_type": "markdown",
   "metadata": {},
   "source": [
    "### Saving Preprocessed Data"
   ]
  },
  {
   "cell_type": "code",
   "execution_count": null,
   "metadata": {},
   "outputs": [],
   "source": [
    "# saving new data and header files\n",
    "scipy.sparse.save_npz('preprocessed_xall.npz', new_xall_v2)"
   ]
  },
  {
   "cell_type": "code",
   "execution_count": 183,
   "metadata": {},
   "outputs": [],
   "source": [
    "with open('preprocessed_headers.pkl','wb') as f:\n",
    "    pickle.dump(headers_v2, f)"
   ]
  },
  {
   "cell_type": "code",
   "execution_count": null,
   "metadata": {},
   "outputs": [],
   "source": [
    "np.save(new)"
   ]
  },
  {
   "cell_type": "code",
   "execution_count": 23,
   "metadata": {},
   "outputs": [],
   "source": [
    "headerLength = headers.shape[0]\n",
    "\n",
    "colonSplit = np.char.split(headers, sep = ':')\n",
    "# initializing prefix storage\n",
    "raw_prefixes = np.empty(shape=(headerLength), dtype='<U301')  \n",
    "\n",
    "# getting first string (string before colon)\n",
    "for i in range(colonSplit.shape[0]):\n",
    "    raw_prefixes[i] = colonSplit[i][0]\n",
    "\n",
    "prefixes = np.unique(raw_prefixes, return_counts=True)"
   ]
  },
  {
   "cell_type": "code",
   "execution_count": 140,
   "metadata": {},
   "outputs": [
    {
     "data": {
      "text/plain": [
       "191846"
      ]
     },
     "execution_count": 140,
     "metadata": {},
     "output_type": "execute_result"
    }
   ],
   "source": [
    "list(headers).index('demographics_age')"
   ]
  },
  {
   "cell_type": "code",
   "execution_count": 72,
   "metadata": {},
   "outputs": [],
   "source": [
    "csc_data = scipy.sparse.csc_matrix(new_xall)"
   ]
  },
  {
   "cell_type": "code",
   "execution_count": null,
   "metadata": {},
   "outputs": [],
   "source": [
    "def fix_binary(x, headers):\n",
    "    print('fixing diagnosis and procedure columns and adding bins: (original x shape:)', x.shape) \n",
    "    diag_ix = np.nonzero([h.startswith(\"Diagnosis:\") or h.startswith(\"ProcedureCPT\") or h.startswith(\"Medication\")\n",
    "                          for h in headers])[0]\n",
    "    bins = [0, 2, 10]\n",
    "    xbin = hstack([(x[:, diag_ix] > bins[i]) for i in range(len(bins))], format='csr')\n",
    "    headersbin = np.hstack([[h+'[count>'+str(bins[i])+']' for h in headers[diag_ix]] for i in range(len(bins))])\n",
    "    x = hstack([xbin, x], format='csr')\n",
    "    headers = np.hstack([headersbin, headers])\n",
    "    print('done. x is now of shape:', x.shape)\n",
    "    return x, headers"
   ]
  },
  {
   "cell_type": "code",
   "execution_count": 40,
   "metadata": {},
   "outputs": [
    {
     "data": {
      "text/plain": [
       "939629263"
      ]
     },
     "execution_count": 40,
     "metadata": {},
     "output_type": "execute_result"
    }
   ],
   "source": [
    "new_xall.count_nonzero()"
   ]
  },
  {
   "cell_type": "code",
   "execution_count": 41,
   "metadata": {},
   "outputs": [
    {
     "data": {
      "text/plain": [
       "0.0004423587777825694"
      ]
     },
     "execution_count": 41,
     "metadata": {},
     "output_type": "execute_result"
    }
   ],
   "source": [
    "939629263/(new_xall.shape[0]*new_xall.shape[1])"
   ]
  }
 ],
 "metadata": {
  "kernelspec": {
   "display_name": "Python 3",
   "language": "python",
   "name": "python3"
  },
  "language_info": {
   "codemirror_mode": {
    "name": "ipython",
    "version": 3
   },
   "file_extension": ".py",
   "mimetype": "text/x-python",
   "name": "python",
   "nbconvert_exporter": "python",
   "pygments_lexer": "ipython3",
   "version": "3.7.4"
  }
 },
 "nbformat": 4,
 "nbformat_minor": 5
}
